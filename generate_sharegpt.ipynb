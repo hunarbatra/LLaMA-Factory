{
 "cells": [
  {
   "cell_type": "code",
   "execution_count": 1,
   "id": "20e4cc2a",
   "metadata": {},
   "outputs": [
    {
     "name": "stderr",
     "output_type": "stream",
     "text": [
      "/home/hunar/miniforge3/envs/pixl-r1-env/lib/python3.10/site-packages/tqdm/auto.py:21: TqdmWarning: IProgress not found. Please update jupyter and ipywidgets. See https://ipywidgets.readthedocs.io/en/stable/user_install.html\n",
      "  from .autonotebook import tqdm as notebook_tqdm\n"
     ]
    }
   ],
   "source": [
    "from datasets import load_dataset\n",
    "import os\n",
    "import json\n",
    "import requests\n",
    "from PIL import Image\n",
    "from tqdm import tqdm"
   ]
  },
  {
   "cell_type": "code",
   "execution_count": null,
   "id": "a06390cd",
   "metadata": {},
   "outputs": [],
   "source": [
    "from huggingface_hub import HfApi, login\n",
    "\n",
    "HF_TOKEN = \"XXXX\"\n",
    "login(HF_TOKEN)"
   ]
  },
  {
   "cell_type": "code",
   "execution_count": 3,
   "id": "eabe16bb",
   "metadata": {},
   "outputs": [],
   "source": [
    "import zipfile\n",
    "import os\n",
    "\n",
    "def zip_img_folder(\n",
    "    folder_to_zip: str = \"data/spatialthinker_vqa_10k_data\",\n",
    "    zip_filename: str = \"data/spatialthinker_vqa_10k_data.zip\",\n",
    "):\n",
    "    with zipfile.ZipFile(zip_filename, \"w\", zipfile.ZIP_DEFLATED) as zipf:\n",
    "        for root, _, files in os.walk(folder_to_zip):\n",
    "            for file in files:\n",
    "                full_path = os.path.join(root, file)\n",
    "                arcname = os.path.relpath(full_path, folder_to_zip)\n",
    "                zipf.write(full_path, arcname)\n",
    "\n",
    "    print(f\"✅ Zipped {folder_to_zip} → {zip_filename}\")"
   ]
  },
  {
   "cell_type": "code",
   "execution_count": 4,
   "id": "88d124c0",
   "metadata": {},
   "outputs": [],
   "source": [
    "image_dir = \"data/spatialthinker_vqa_10k_data\"\n",
    "os.makedirs(image_dir, exist_ok=True)"
   ]
  },
  {
   "cell_type": "code",
   "execution_count": 5,
   "id": "aaaf2d1a",
   "metadata": {},
   "outputs": [],
   "source": [
    "# prepare json in ShareGPT format\n",
    "\n",
    "def generate_sharegpt(\n",
    "    dataset,\n",
    "    image_dir = \"data/spatialthinker_vqa_10k_data\",\n",
    "    json_dir = \"data/spatialthinker_vqa_10k.json\",\n",
    "    save_images = True,\n",
    "    problem_key = \"question_with_options\",\n",
    "    answer_key = \"answer_option_text_only\",\n",
    "    image_id_key = \"image_id\",\n",
    "    image_key = \"images\",\n",
    "    target_repo = \"hunarbatra/spatialthinker_vqa_10k_filtered_sharegpt\",\n",
    "    upload = False,\n",
    "):\n",
    "    sharegpt_data = []\n",
    "    \n",
    "    for i, example in tqdm(enumerate(dataset), total=len(dataset)):\n",
    "        curr_image_id = example[image_id_key]\n",
    "        local_image_path = f\"{image_dir}/{curr_image_id}.jpg\"\n",
    "        data_image_path = f\"{image_dir.split('/')[-1]}/{curr_image_id}.jpg\"\n",
    "        \n",
    "        # convert image to RGP before saving as JPEG\n",
    "        if save_images:\n",
    "            image = example[image_key].convert(\"RGB\")\n",
    "            image.save(local_image_path)\n",
    "        \n",
    "        # add to ShareGPT format data\n",
    "        entry = {\n",
    "            \"messages\": [\n",
    "                {\n",
    "                    \"content\": \"<image>\" + example[problem_key],\n",
    "                    \"role\": \"user\"\n",
    "                },\n",
    "                {\n",
    "                    \"content\": example[answer_key],\n",
    "                    \"role\": \"assistant\"\n",
    "                }\n",
    "            ],\n",
    "            \"images\": [\n",
    "                data_image_path\n",
    "            ]\n",
    "        }\n",
    "        sharegpt_data.append(entry)\n",
    "        \n",
    "    with open(json_dir, \"w\") as f:\n",
    "        json.dump(sharegpt_data, f, indent=2)\n",
    "        \n",
    "    if upload:\n",
    "        # create empty huggingface repo for target_repo if it does not exist\n",
    "        HfApi().create_repo(\n",
    "            repo_id=target_repo,\n",
    "            repo_type=\"dataset\",\n",
    "            private=True,\n",
    "            exist_ok=True\n",
    "        )\n",
    "            \n",
    "        HfApi().upload_file(\n",
    "            path_or_fileobj=json_dir,           # local file path\n",
    "            path_in_repo=json_dir.split(\"/\")[-1],                # where it should appear in repo\n",
    "            repo_id=target_repo,               # your dataset repo\n",
    "            repo_type=\"dataset\"\n",
    "        )\n",
    "        print(f'Uploaded {json_dir} to {target_repo}')\n",
    "        \n",
    "        zip_img_folder(\n",
    "            folder_to_zip=image_dir,\n",
    "            zip_filename=f\"{image_dir}.zip\"\n",
    "        )\n",
    "        \n",
    "        img_dir_tail = image_dir.split(\"/\")[-1]\n",
    "        HfApi().upload_file(\n",
    "            path_or_fileobj=f\"{image_dir}.zip\",\n",
    "            path_in_repo=f\"{img_dir_tail}.zip\",\n",
    "            repo_id=target_repo,\n",
    "            repo_type=\"dataset\"\n",
    "        )\n",
    "        print(f'Uploaded {image_dir}.zip to {target_repo}')\n",
    "        \n",
    "        "
   ]
  },
  {
   "cell_type": "code",
   "execution_count": 6,
   "id": "2b0752f3",
   "metadata": {},
   "outputs": [
    {
     "name": "stderr",
     "output_type": "stream",
     "text": [
      "Xet Storage is enabled for this repo, but the 'hf_xet' package is not installed. Falling back to regular HTTP download. For better performance, install the package with: `pip install huggingface_hub[hf_xet]` or `pip install hf_xet`\n",
      "Xet Storage is enabled for this repo, but the 'hf_xet' package is not installed. Falling back to regular HTTP download. For better performance, install the package with: `pip install huggingface_hub[hf_xet]` or `pip install hf_xet`\n",
      "Generating train split: 100%|██████████| 6895/6895 [00:00<00:00, 11551.73 examples/s]\n",
      "Generating val split: 100%|██████████| 692/692 [00:00<00:00, 12986.04 examples/s]\n",
      "100%|██████████| 6895/6895 [00:18<00:00, 382.04it/s]\n"
     ]
    },
    {
     "name": "stdout",
     "output_type": "stream",
     "text": [
      "Uploaded data/spatialthinker_vqa_10k.json to hunarbatra/spatialthinker_vqa_10k_filtered_sharegpt\n",
      "✅ Zipped data/spatialthinker_vqa_10k_data → data/spatialthinker_vqa_10k_data.zip\n"
     ]
    },
    {
     "name": "stderr",
     "output_type": "stream",
     "text": [
      "spatialthinker_vqa_10k_data.zip: 100%|██████████| 411M/411M [00:13<00:00, 31.5MB/s] \n"
     ]
    },
    {
     "name": "stdout",
     "output_type": "stream",
     "text": [
      "Uploaded data/spatialthinker_vqa_10k_data.zip to hunarbatra/spatialthinker_vqa_10k_filtered_sharegpt\n"
     ]
    }
   ],
   "source": [
    "dataset = load_dataset(\"hunarbatra/spatialthinker_vqa_10k_filtered\", split=\"train\")\n",
    "\n",
    "generate_sharegpt(\n",
    "    dataset,\n",
    "    image_dir=\"data/spatialthinker_vqa_10k_data\",\n",
    "    json_dir=\"data/spatialthinker_vqa_10k.json\",\n",
    "    save_images=True,\n",
    "    problem_key=\"question_with_options\",\n",
    "    answer_key=\"answer_option_text_only\",\n",
    "    image_id_key=\"image_id\",\n",
    "    image_key=\"images\",\n",
    "    target_repo=\"hunarbatra/spatialthinker_vqa_10k_filtered_sharegpt\",\n",
    "    upload=True\n",
    ")"
   ]
  },
  {
   "cell_type": "code",
   "execution_count": null,
   "id": "fc59f165",
   "metadata": {},
   "outputs": [],
   "source": [
    "# dataset = load_dataset(\"hunarbatra/spatialthinker_vqa_10k\", split=\"train\")\n",
    "\n",
    "# generate_sharegpt(\n",
    "#     dataset,\n",
    "#     image_dir=\"data/spatialthinker_vqa_10k_data\",\n",
    "#     json_dir=\"data/spatialthinker_vqa_10k.json\",\n",
    "#     save_images=True,\n",
    "#     problem_key=\"question_with_options\",\n",
    "#     answer_key=\"answer_option_text_only\",\n",
    "#     image_id_key=\"image_id\",\n",
    "#     image_key=\"images\",\n",
    "#     target_repo=\"hunarbatra/spatialthinker_vqa_10k_sharegpt\"\n",
    "# )"
   ]
  }
 ],
 "metadata": {
  "kernelspec": {
   "display_name": "pixl-r1-env",
   "language": "python",
   "name": "python3"
  },
  "language_info": {
   "codemirror_mode": {
    "name": "ipython",
    "version": 3
   },
   "file_extension": ".py",
   "mimetype": "text/x-python",
   "name": "python",
   "nbconvert_exporter": "python",
   "pygments_lexer": "ipython3",
   "version": "3.10.16"
  }
 },
 "nbformat": 4,
 "nbformat_minor": 5
}
